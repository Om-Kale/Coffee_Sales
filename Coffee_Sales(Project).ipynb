{
 "cells": [
  {
   "cell_type": "code",
   "execution_count": null,
   "id": "ff36c688",
   "metadata": {},
   "outputs": [],
   "source": [
    "import pandas as pd\n",
    "import numpy as np\n",
    "import seaborn as sns\n",
    "import matplotlib.pyplot as plt"
   ]
  },
  {
   "cell_type": "code",
   "execution_count": null,
   "id": "84b1a1bc",
   "metadata": {},
   "outputs": [],
   "source": [
    "coffee = pd.read_excel(\"CoffeeSales(Raw_Data).xlsx\")"
   ]
  },
  {
   "cell_type": "code",
   "execution_count": null,
   "id": "99a2c9d1",
   "metadata": {},
   "outputs": [],
   "source": [
    "coffee.head(5)"
   ]
  },
  {
   "cell_type": "code",
   "execution_count": null,
   "id": "7da2d44e",
   "metadata": {},
   "outputs": [],
   "source": [
    "coffee.info()"
   ]
  },
  {
   "cell_type": "code",
   "execution_count": null,
   "id": "54ceeb60",
   "metadata": {},
   "outputs": [],
   "source": [
    "coffee.isnull().sum()"
   ]
  },
  {
   "cell_type": "code",
   "execution_count": null,
   "id": "daa6d63b",
   "metadata": {},
   "outputs": [],
   "source": [
    "coffee['transaction_time']=coffee['transaction_time'].astype('str')\n",
    "coffee['transaction_time'] = pd.to_timedelta(coffee['transaction_time'])"
   ]
  },
  {
   "cell_type": "code",
   "execution_count": null,
   "id": "20ec3fdf",
   "metadata": {},
   "outputs": [],
   "source": [
    "coffee.info()"
   ]
  },
  {
   "cell_type": "code",
   "execution_count": null,
   "id": "c94bb62b",
   "metadata": {},
   "outputs": [],
   "source": [
    "coffee['sales']  = coffee['transaction_qty'] * coffee['unit_price']"
   ]
  },
  {
   "cell_type": "code",
   "execution_count": null,
   "id": "d7455a57",
   "metadata": {},
   "outputs": [],
   "source": [
    "coffee.head(5)"
   ]
  },
  {
   "cell_type": "code",
   "execution_count": null,
   "id": "f6d7acda",
   "metadata": {},
   "outputs": [],
   "source": [
    "coffee['datetime'] = coffee['transaction_date'] + coffee['transaction_time']"
   ]
  },
  {
   "cell_type": "code",
   "execution_count": null,
   "id": "321ef298",
   "metadata": {},
   "outputs": [],
   "source": [
    "coffee.head(5)"
   ]
  },
  {
   "cell_type": "code",
   "execution_count": null,
   "id": "3ed4b504",
   "metadata": {},
   "outputs": [],
   "source": [
    "coffee.describe()"
   ]
  },
  {
   "cell_type": "code",
   "execution_count": null,
   "id": "90bf8a19",
   "metadata": {},
   "outputs": [],
   "source": [
    "coffee_loc = coffee.groupby('store_location').agg({'sales':'sum','transaction_id':'count'})"
   ]
  },
  {
   "cell_type": "code",
   "execution_count": null,
   "id": "259fff4f",
   "metadata": {},
   "outputs": [],
   "source": [
    "coffee_loc"
   ]
  },
  {
   "cell_type": "code",
   "execution_count": null,
   "id": "9321094b",
   "metadata": {},
   "outputs": [],
   "source": [
    "sales_by_loc= coffee.groupby(['transaction_date','store_location'])['sales'].sum().unstack()\n",
    "# Unstacks a level of the DataFrame's multi-index, creating new columns from the index labels."
   ]
  },
  {
   "cell_type": "code",
   "execution_count": null,
   "id": "2b4442f6",
   "metadata": {},
   "outputs": [],
   "source": [
    "sales_by_loc"
   ]
  },
  {
   "cell_type": "code",
   "execution_count": null,
   "id": "7f5048db",
   "metadata": {},
   "outputs": [],
   "source": [
    "# without using unstack()\n",
    "a = coffee.groupby(['transaction_date','store_location'])['sales'].sum()\n",
    "a"
   ]
  },
  {
   "cell_type": "code",
   "execution_count": null,
   "id": "e513d0dd",
   "metadata": {},
   "outputs": [],
   "source": [
    "sales_by_loc.plot(figsize=(14,8)),\n",
    "plt.xlabel(\"Dates\"),\n",
    "plt.ylabel('Total sales'),\n",
    "plt.legend(title = \"Store Location\"),\n",
    "plt.title('Sales by location'),\n",
    "plt.grid(True),\n",
    "plt.tight_layout(),\n",
    "plt.show()"
   ]
  },
  {
   "cell_type": "code",
   "execution_count": null,
   "id": "e5789a23",
   "metadata": {},
   "outputs": [],
   "source": [
    "daily_sales = coffee.groupby('transaction_date')['sales'].sum().reset_index()"
   ]
  },
  {
   "cell_type": "code",
   "execution_count": null,
   "id": "798c4467",
   "metadata": {},
   "outputs": [],
   "source": [
    "daily_sales"
   ]
  },
  {
   "cell_type": "code",
   "execution_count": null,
   "id": "640d01d6",
   "metadata": {},
   "outputs": [],
   "source": [
    "coffee['day_of_week'] = coffee['datetime'].dt.day_name()\n",
    "weekly_sales = coffee.groupby('day_of_week')['sales'].sum()"
   ]
  },
  {
   "cell_type": "code",
   "execution_count": null,
   "id": "28599b3a",
   "metadata": {},
   "outputs": [],
   "source": [
    "coffee.head(5)\n",
    "weekly_sales"
   ]
  },
  {
   "cell_type": "code",
   "execution_count": null,
   "id": "db65f036",
   "metadata": {},
   "outputs": [],
   "source": [
    "weekly_sales = coffee.groupby('day_of_week')['sales'].sum().reindex([\n",
    "    'Monday','Tuesday','Wednesday','Thursday','Friday','Saturday','Sunday'\n",
    "]).reset_index()"
   ]
  },
  {
   "cell_type": "code",
   "execution_count": null,
   "id": "17e4ffdf",
   "metadata": {},
   "outputs": [],
   "source": [
    "weekly_sales"
   ]
  },
  {
   "cell_type": "code",
   "execution_count": null,
   "id": "9d663be9",
   "metadata": {},
   "outputs": [],
   "source": [
    "coffee['month'] = coffee['datetime'].dt.to_period(\"M\")\n",
    "monthly_sales = coffee.groupby('month')['sales'].sum().reset_index()\n",
    "monthly_sales"
   ]
  },
  {
   "cell_type": "code",
   "execution_count": null,
   "id": "cea5d634",
   "metadata": {},
   "outputs": [],
   "source": [
    "monthly_sales.plot(figsize=(14,9),color = 'violet'),\n",
    "plt.xlabel('Months'),\n",
    "plt.ylabel('Total Sales'),\n",
    "plt.grid(True),\n",
    "plt.title('Monthly Sales'),\n",
    "plt.show()"
   ]
  },
  {
   "cell_type": "code",
   "execution_count": null,
   "id": "e6f147c4",
   "metadata": {},
   "outputs": [],
   "source": [
    "weekly_sales = coffee.groupby(['day_of_week','store_location'])['sales'].sum().unstack()\n",
    "day_orders = ['Monday','Tuesday','Wednesday','Thursday','Friday','Saturday','Sunday']\n",
    "weekly_sales = weekly_sales.reindex(day_orders)"
   ]
  },
  {
   "cell_type": "code",
   "execution_count": null,
   "id": "fb51786b",
   "metadata": {},
   "outputs": [],
   "source": [
    "plt.figure(figsize=(10, 6))\n",
    "colors = ['Violet','red','green']\n",
    "weekly_sales.plot(kind='bar', color = colors,stacked=False)\n",
    "plt.xlabel('Day of Week')\n",
    "plt.ylabel('Total Sales')\n",
    "plt.title('Weekly Saales by Store Location')\n",
    "plt.legend(title='Store Location')\n",
    "plt.xticks(rotation=0)  # Rotate x-axis labels for better readability\n",
    "plt.grid(axis='y', linestyle='--',alpha=0.7)\n",
    "plt.tight_layout()\n",
    "plt.show()"
   ]
  },
  {
   "cell_type": "code",
   "execution_count": null,
   "id": "4895ad6f",
   "metadata": {},
   "outputs": [],
   "source": [
    "coffee.head(5)"
   ]
  },
  {
   "cell_type": "code",
   "execution_count": null,
   "id": "50f2a235",
   "metadata": {},
   "outputs": [],
   "source": [
    "category = coffee.groupby('product_category').agg({'sales':'sum','transaction_id':'count'}).sort_values('sales',ascending = False)"
   ]
  },
  {
   "cell_type": "code",
   "execution_count": null,
   "id": "12ec6e28",
   "metadata": {},
   "outputs": [],
   "source": [
    "category"
   ]
  },
  {
   "cell_type": "code",
   "execution_count": null,
   "id": "b93537f5",
   "metadata": {},
   "outputs": [],
   "source": [
    "coffee['hr'] = coffee['datetime'].dt.hour\n",
    "hr_sales_by_Product = coffee.groupby(['hr','product_category'])['sales'].sum().unstack()\n",
    "hr_sales_by_Product.plot(kind = 'bar',stacked = True,figsize=(14,8))\n",
    "plt.title('Hourly Sales by Product Category')\n",
    "plt.xlabel('Hour of the day')\n",
    "plt.ylabel('Sales')\n",
    "plt.legend(title = 'Product Category',loc = 'upper right')\n",
    "plt.grid(True)\n",
    "plt.tight_layout()\n",
    "plt.show()"
   ]
  },
  {
   "cell_type": "code",
   "execution_count": null,
   "id": "c57fee9a",
   "metadata": {},
   "outputs": [],
   "source": [
    "category['avg_sales'] = category['sales']/category['transaction_id']\n",
    "category"
   ]
  },
  {
   "cell_type": "code",
   "execution_count": null,
   "id": "5be3109c",
   "metadata": {},
   "outputs": [],
   "source": [
    "coffee.head()\n",
    "sales_by_product = coffee.groupby('product_type').agg({'sales':'sum','unit_price':'mean'}).sort_values('sales',ascending = True)"
   ]
  },
  {
   "cell_type": "code",
   "execution_count": null,
   "id": "b93bbe74",
   "metadata": {},
   "outputs": [],
   "source": [
    "sales_by_product"
   ]
  },
  {
   "cell_type": "code",
   "execution_count": null,
   "id": "6e91c02e",
   "metadata": {},
   "outputs": [],
   "source": [
    "product_sales = coffee.groupby(['product_category','product_type'])['sales'].sum().reset_index()"
   ]
  },
  {
   "cell_type": "code",
   "execution_count": null,
   "id": "051dc6f7",
   "metadata": {},
   "outputs": [],
   "source": [
    "product_sales"
   ]
  },
  {
   "cell_type": "code",
   "execution_count": null,
   "id": "80e4306e",
   "metadata": {},
   "outputs": [],
   "source": [
    "coffee.head()"
   ]
  },
  {
   "cell_type": "code",
   "execution_count": null,
   "id": "b2566c5b",
   "metadata": {},
   "outputs": [],
   "source": []
  }
 ],
 "metadata": {
  "kernelspec": {
   "display_name": "Python 3 (ipykernel)",
   "language": "python",
   "name": "python3"
  },
  "language_info": {
   "codemirror_mode": {
    "name": "ipython",
    "version": 3
   },
   "file_extension": ".py",
   "mimetype": "text/x-python",
   "name": "python",
   "nbconvert_exporter": "python",
   "pygments_lexer": "ipython3",
   "version": "3.11.5"
  }
 },
 "nbformat": 4,
 "nbformat_minor": 5
}
